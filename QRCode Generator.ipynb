{
 "cells": [
  {
   "cell_type": "code",
   "execution_count": 1,
   "metadata": {},
   "outputs": [
    {
     "name": "stdout",
     "output_type": "stream",
     "text": [
      "Collecting PyQRCode\n",
      "  Downloading PyQRCode-1.2.1.tar.gz (36 kB)\n",
      "Building wheels for collected packages: PyQRCode\n",
      "  Building wheel for PyQRCode (setup.py): started\n",
      "  Building wheel for PyQRCode (setup.py): finished with status 'done'\n",
      "  Created wheel for PyQRCode: filename=PyQRCode-1.2.1-py3-none-any.whl size=36250 sha256=6d3aaac15835812d6fd54580ad5e61fa408236cee6343eca3ee05e19e752929d\n",
      "  Stored in directory: c:\\users\\rizua\\appdata\\local\\pip\\cache\\wheels\\e1\\1a\\48\\c9d6b7295d3750a8d38001a2a3e86d8816e2e90964a0cc73cd\n",
      "Successfully built PyQRCode\n",
      "Installing collected packages: PyQRCode\n",
      "Successfully installed PyQRCode-1.2.1\n"
     ]
    }
   ],
   "source": [
    "!pip install PyQRCode"
   ]
  },
  {
   "cell_type": "code",
   "execution_count": 2,
   "metadata": {},
   "outputs": [
    {
     "name": "stdout",
     "output_type": "stream",
     "text": [
      "Collecting pypng\n",
      "  Downloading pypng-0.0.21-py3-none-any.whl (48 kB)\n",
      "Installing collected packages: pypng\n",
      "Successfully installed pypng-0.0.21\n"
     ]
    }
   ],
   "source": [
    "!pip install pypng"
   ]
  },
  {
   "cell_type": "code",
   "execution_count": 3,
   "metadata": {},
   "outputs": [],
   "source": [
    "import pyqrcode\n",
    "import png\n",
    "link = \"TechieNet.co.uk\"\n",
    "qr_code = pyqrcode.create(link)\n",
    "#qr_code.png(\"instagram.png\", scale=5)\n",
    "qr_code.show()"
   ]
  },
  {
   "cell_type": "code",
   "execution_count": null,
   "metadata": {},
   "outputs": [],
   "source": []
  }
 ],
 "metadata": {
  "kernelspec": {
   "display_name": "Python 3",
   "language": "python",
   "name": "python3"
  },
  "language_info": {
   "codemirror_mode": {
    "name": "ipython",
    "version": 3
   },
   "file_extension": ".py",
   "mimetype": "text/x-python",
   "name": "python",
   "nbconvert_exporter": "python",
   "pygments_lexer": "ipython3",
   "version": "3.8.5"
  }
 },
 "nbformat": 4,
 "nbformat_minor": 4
}
